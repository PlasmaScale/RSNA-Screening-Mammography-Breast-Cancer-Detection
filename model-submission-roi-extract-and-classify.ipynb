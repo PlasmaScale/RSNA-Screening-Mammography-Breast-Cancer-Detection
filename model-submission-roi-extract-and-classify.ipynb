{
 "cells": [
  {
   "cell_type": "markdown",
   "id": "8a5d9a9a",
   "metadata": {
    "_cell_guid": "b1076dfc-b9ad-4769-8c92-a6c4dae69d19",
    "_uuid": "8f2839f25d086af736a60e9eeb907d3b93b6e0e5",
    "papermill": {
     "duration": 0.007104,
     "end_time": "2023-02-18T09:17:27.318433",
     "exception": false,
     "start_time": "2023-02-18T09:17:27.311329",
     "status": "completed"
    },
    "tags": []
   },
   "source": [
    "### Versions\n",
    "\n",
    "* **v1**: First submission"
   ]
  },
  {
   "cell_type": "markdown",
   "id": "e7306729",
   "metadata": {
    "execution": {
     "iopub.execute_input": "2022-12-02T00:49:16.208915Z",
     "iopub.status.busy": "2022-12-02T00:49:16.208242Z",
     "iopub.status.idle": "2022-12-02T00:49:16.247884Z",
     "shell.execute_reply": "2022-12-02T00:49:16.244677Z",
     "shell.execute_reply.started": "2022-12-02T00:49:16.20876Z"
    },
    "papermill": {
     "duration": 0.005394,
     "end_time": "2023-02-18T09:17:27.329850",
     "exception": false,
     "start_time": "2023-02-18T09:17:27.324456",
     "status": "completed"
    },
    "tags": []
   },
   "source": [
    "# Training a fast.ai model\n"
   ]
  },
  {
   "cell_type": "markdown",
   "id": "3c75083e",
   "metadata": {
    "papermill": {
     "duration": 0.005399,
     "end_time": "2023-02-18T09:17:27.341199",
     "exception": false,
     "start_time": "2023-02-18T09:17:27.335800",
     "status": "completed"
    },
    "tags": []
   },
   "source": [
    "## Importing everything"
   ]
  },
  {
   "cell_type": "code",
   "execution_count": 1,
   "id": "7bb52cca",
   "metadata": {
    "execution": {
     "iopub.execute_input": "2023-02-18T09:17:27.355217Z",
     "iopub.status.busy": "2023-02-18T09:17:27.354331Z",
     "iopub.status.idle": "2023-02-18T09:17:28.444552Z",
     "shell.execute_reply": "2023-02-18T09:17:28.443244Z"
    },
    "papermill": {
     "duration": 1.100689,
     "end_time": "2023-02-18T09:17:28.447490",
     "exception": false,
     "start_time": "2023-02-18T09:17:27.346801",
     "status": "completed"
    },
    "tags": []
   },
   "outputs": [],
   "source": [
    "!cp /kaggle/input/easy-load-the-image-with-nvjpeg2000/nvjpeg2k.so ./"
   ]
  },
  {
   "cell_type": "code",
   "execution_count": 2,
   "id": "b452fc8c",
   "metadata": {
    "execution": {
     "iopub.execute_input": "2023-02-18T09:17:28.461877Z",
     "iopub.status.busy": "2023-02-18T09:17:28.460867Z",
     "iopub.status.idle": "2023-02-18T09:19:38.172645Z",
     "shell.execute_reply": "2023-02-18T09:19:38.171309Z"
    },
    "papermill": {
     "duration": 129.721329,
     "end_time": "2023-02-18T09:19:38.175171",
     "exception": false,
     "start_time": "2023-02-18T09:17:28.453842",
     "status": "completed"
    },
    "tags": []
   },
   "outputs": [
    {
     "name": "stdout",
     "output_type": "stream",
     "text": [
      "Processing /kaggle/input/rsna-2022-whl/pylibjpeg-1.4.0-py3-none-any.whl\r\n",
      "Requirement already satisfied: numpy in /opt/conda/lib/python3.7/site-packages (from pylibjpeg==1.4.0) (1.21.6)\r\n",
      "Installing collected packages: pylibjpeg\r\n",
      "Successfully installed pylibjpeg-1.4.0\r\n",
      "\u001b[33mWARNING: Running pip as the 'root' user can result in broken permissions and conflicting behaviour with the system package manager. It is recommended to use a virtual environment instead: https://pip.pypa.io/warnings/venv\u001b[0m\u001b[33m\r\n",
      "\u001b[0m\u001b[33mWARNING: There was an error checking the latest version of pip.\u001b[0m\u001b[33m\r\n",
      "\u001b[0mProcessing /kaggle/input/rsna-2022-whl/python_gdcm-3.0.15-cp37-cp37m-manylinux_2_17_x86_64.manylinux2014_x86_64.whl\r\n",
      "Installing collected packages: python-gdcm\r\n",
      "Successfully installed python-gdcm-3.0.15\r\n",
      "\u001b[33mWARNING: Running pip as the 'root' user can result in broken permissions and conflicting behaviour with the system package manager. It is recommended to use a virtual environment instead: https://pip.pypa.io/warnings/venv\u001b[0m\u001b[33m\r\n",
      "\u001b[0m\u001b[33mWARNING: There was an error checking the latest version of pip.\u001b[0m\u001b[33m\r\n",
      "\u001b[0mProcessing /kaggle/input/dicomsdl-offline-installer/dicomsdl-0.109.1-cp37-cp37m-manylinux_2_12_x86_64.manylinux2010_x86_64.whl\r\n",
      "Installing collected packages: dicomsdl\r\n",
      "Successfully installed dicomsdl-0.109.1\r\n",
      "\u001b[33mWARNING: Running pip as the 'root' user can result in broken permissions and conflicting behaviour with the system package manager. It is recommended to use a virtual environment instead: https://pip.pypa.io/warnings/venv\u001b[0m\u001b[33m\r\n",
      "\u001b[0m\u001b[33mWARNING: There was an error checking the latest version of pip.\u001b[0m\u001b[33m\r\n",
      "\u001b[0mLooking in links: timm-with-dependencies\r\n",
      "Processing ./timm-with-dependencies/timm-0.6.12-py3-none-any.whl\r\n",
      "Requirement already satisfied: torchvision in /opt/conda/lib/python3.7/site-packages (from timm) (0.12.0)\r\n",
      "Requirement already satisfied: pyyaml in /opt/conda/lib/python3.7/site-packages (from timm) (6.0)\r\n",
      "Requirement already satisfied: huggingface-hub in /opt/conda/lib/python3.7/site-packages (from timm) (0.10.1)\r\n",
      "Requirement already satisfied: torch>=1.7 in /opt/conda/lib/python3.7/site-packages (from timm) (1.11.0)\r\n",
      "Requirement already satisfied: typing-extensions in /opt/conda/lib/python3.7/site-packages (from torch>=1.7->timm) (4.1.1)\r\n",
      "Requirement already satisfied: filelock in /opt/conda/lib/python3.7/site-packages (from huggingface-hub->timm) (3.7.1)\r\n",
      "Requirement already satisfied: tqdm in /opt/conda/lib/python3.7/site-packages (from huggingface-hub->timm) (4.64.0)\r\n",
      "Requirement already satisfied: importlib-metadata in /opt/conda/lib/python3.7/site-packages (from huggingface-hub->timm) (4.13.0)\r\n",
      "Requirement already satisfied: requests in /opt/conda/lib/python3.7/site-packages (from huggingface-hub->timm) (2.28.1)\r\n",
      "Requirement already satisfied: packaging>=20.9 in /opt/conda/lib/python3.7/site-packages (from huggingface-hub->timm) (21.3)\r\n",
      "Requirement already satisfied: pillow!=8.3.*,>=5.3.0 in /opt/conda/lib/python3.7/site-packages (from torchvision->timm) (9.1.1)\r\n",
      "Requirement already satisfied: numpy in /opt/conda/lib/python3.7/site-packages (from torchvision->timm) (1.21.6)\r\n",
      "Requirement already satisfied: pyparsing!=3.0.5,>=2.0.2 in /opt/conda/lib/python3.7/site-packages (from packaging>=20.9->huggingface-hub->timm) (3.0.9)\r\n",
      "Requirement already satisfied: zipp>=0.5 in /opt/conda/lib/python3.7/site-packages (from importlib-metadata->huggingface-hub->timm) (3.8.0)\r\n",
      "Requirement already satisfied: charset-normalizer<3,>=2 in /opt/conda/lib/python3.7/site-packages (from requests->huggingface-hub->timm) (2.1.0)\r\n",
      "Requirement already satisfied: urllib3<1.27,>=1.21.1 in /opt/conda/lib/python3.7/site-packages (from requests->huggingface-hub->timm) (1.26.12)\r\n",
      "Requirement already satisfied: certifi>=2017.4.17 in /opt/conda/lib/python3.7/site-packages (from requests->huggingface-hub->timm) (2022.9.24)\r\n",
      "Requirement already satisfied: idna<4,>=2.5 in /opt/conda/lib/python3.7/site-packages (from requests->huggingface-hub->timm) (3.3)\r\n",
      "Installing collected packages: timm\r\n",
      "Successfully installed timm-0.6.12\r\n",
      "\u001b[33mWARNING: Running pip as the 'root' user can result in broken permissions and conflicting behaviour with the system package manager. It is recommended to use a virtual environment instead: https://pip.pypa.io/warnings/venv\u001b[0m\u001b[33m\r\n",
      "\u001b[0m"
     ]
    }
   ],
   "source": [
    "#Installing libraries\n",
    "!pip install /kaggle/input/rsna-2022-whl/pylibjpeg-1.4.0-py3-none-any.whl\n",
    "!pip install /kaggle/input/rsna-2022-whl/python_gdcm-3.0.15-cp37-cp37m-manylinux_2_17_x86_64.manylinux2014_x86_64.whl\n",
    "!pip install /kaggle/input/dicomsdl-offline-installer/dicomsdl-0.109.1-cp37-cp37m-manylinux_2_12_x86_64.manylinux2010_x86_64.whl\n",
    "!unzip -q ../input/timm-with-dependencies/timm_all -d timm-with-dependencies\n",
    "!pip install --no-index --find-links timm-with-dependencies timm"
   ]
  },
  {
   "cell_type": "code",
   "execution_count": 3,
   "id": "ea99e356",
   "metadata": {
    "execution": {
     "iopub.execute_input": "2023-02-18T09:19:38.190504Z",
     "iopub.status.busy": "2023-02-18T09:19:38.190151Z",
     "iopub.status.idle": "2023-02-18T09:19:42.477408Z",
     "shell.execute_reply": "2023-02-18T09:19:42.476287Z"
    },
    "papermill": {
     "duration": 4.297745,
     "end_time": "2023-02-18T09:19:42.479944",
     "exception": false,
     "start_time": "2023-02-18T09:19:38.182199",
     "status": "completed"
    },
    "tags": []
   },
   "outputs": [],
   "source": [
    "#Importing libraries\n",
    "from fastai.vision.all import *\n",
    "from sklearn.model_selection import StratifiedKFold\n",
    "from imblearn.over_sampling import RandomOverSampler\n",
    "from imblearn.under_sampling import RandomUnderSampler\n",
    "from sklearn.model_selection import StratifiedGroupKFold\n",
    "from fastai.metrics import ActivationType\n",
    "\n",
    "import os, gc\n",
    "import time\n",
    "\n",
    "import numpy as np\n",
    "import pandas as pd\n",
    "import cv2\n",
    "import pydicom\n",
    "import dicomsdl as dicom\n",
    "import glob\n",
    "import re\n",
    "import nvjpeg2k\n",
    "\n",
    "# Progress bar library imports\n",
    "from tqdm import tqdm\n",
    "\n",
    "# Parallel processing library imports\n",
    "from joblib import Parallel, delayed, cpu_count\n",
    "\n",
    "#Prevents throwing error if image is truncated\n",
    "from PIL import Image, ImageFile\n",
    "ImageFile.LOAD_TRUNCATED_IMAGES = True"
   ]
  },
  {
   "cell_type": "markdown",
   "id": "18ebff4b",
   "metadata": {
    "papermill": {
     "duration": 0.006853,
     "end_time": "2023-02-18T09:19:42.498733",
     "exception": false,
     "start_time": "2023-02-18T09:19:42.491880",
     "status": "completed"
    },
    "tags": []
   },
   "source": [
    "## Model loading"
   ]
  },
  {
   "cell_type": "code",
   "execution_count": 4,
   "id": "0212ecd4",
   "metadata": {
    "_kg_hide-input": true,
    "execution": {
     "iopub.execute_input": "2023-02-18T09:19:42.513853Z",
     "iopub.status.busy": "2023-02-18T09:19:42.513304Z",
     "iopub.status.idle": "2023-02-18T09:19:42.525522Z",
     "shell.execute_reply": "2023-02-18T09:19:42.524519Z"
    },
    "papermill": {
     "duration": 0.022313,
     "end_time": "2023-02-18T09:19:42.527689",
     "exception": false,
     "start_time": "2023-02-18T09:19:42.505376",
     "status": "completed"
    },
    "tags": []
   },
   "outputs": [],
   "source": [
    "#https://www.kaggle.com/competitions/rsna-breast-cancer-detection/discussion/369267  \n",
    "def pfbeta_torch(preds, labels, beta=1):\n",
    "    if preds.dim() != 2 or (preds.dim() == 2 and preds.shape[1] !=2): raise ValueError('Houston, we got a problem')\n",
    "    preds = preds[:, 1]\n",
    "    preds = preds.clip(0, 1)\n",
    "    y_true_count = labels.sum()\n",
    "    ctp = preds[labels==1].sum()\n",
    "    cfp = preds[labels==0].sum()\n",
    "    beta_squared = beta * beta\n",
    "    c_precision = ctp / (ctp + cfp)\n",
    "    c_recall = ctp / y_true_count\n",
    "    if (c_precision > 0 and c_recall > 0):\n",
    "        result = (1 + beta_squared) * (c_precision * c_recall) / (beta_squared * c_precision + c_recall)\n",
    "        return result\n",
    "    else:\n",
    "        return 0.0\n",
    "\n",
    "# https://www.kaggle.com/competitions/rsna-breast-cancer-detection/discussion/369886    \n",
    "def pfbeta_torch_thresh(preds, labels):\n",
    "    optimized_preds = optimize_preds(preds, labels)\n",
    "    return pfbeta_torch(optimized_preds, labels)\n",
    "\n",
    "def optimize_preds(preds, labels=None, thresh=None, return_thresh=False, print_results=False):\n",
    "    preds = preds.clone()\n",
    "    if labels is not None: without_thresh = pfbeta_torch(preds, labels)\n",
    "    \n",
    "    if not thresh and labels is not None:\n",
    "        threshs = np.linspace(0, 1, 101)\n",
    "        f1s = [pfbeta_torch((preds > thr).float(), labels) for thr in threshs]\n",
    "        idx = np.argmax(f1s)\n",
    "        thresh, best_pfbeta = threshs[idx], f1s[idx]\n",
    "\n",
    "    preds = (preds > thresh).float()\n",
    "\n",
    "    if print_results:\n",
    "        print(f'without optimization: {without_thresh}')\n",
    "        pfbeta = pfbeta_torch(preds, labels)\n",
    "        print(f'with optimization: {pfbeta}')\n",
    "        print(f'best_thresh = {thresh}')\n",
    "    if return_thresh:\n",
    "        return thresh\n",
    "    return preds"
   ]
  },
  {
   "cell_type": "markdown",
   "id": "13b934cf",
   "metadata": {
    "papermill": {
     "duration": 0.006588,
     "end_time": "2023-02-18T09:19:42.541423",
     "exception": false,
     "start_time": "2023-02-18T09:19:42.534835",
     "status": "completed"
    },
    "tags": []
   },
   "source": [
    "### Patch classifier"
   ]
  },
  {
   "cell_type": "code",
   "execution_count": 5,
   "id": "1e0cf49a",
   "metadata": {
    "execution": {
     "iopub.execute_input": "2023-02-18T09:19:42.556635Z",
     "iopub.status.busy": "2023-02-18T09:19:42.556297Z",
     "iopub.status.idle": "2023-02-18T09:20:06.073654Z",
     "shell.execute_reply": "2023-02-18T09:20:06.072514Z"
    },
    "papermill": {
     "duration": 23.527872,
     "end_time": "2023-02-18T09:20:06.075933",
     "exception": false,
     "start_time": "2023-02-18T09:19:42.548061",
     "status": "completed"
    },
    "tags": []
   },
   "outputs": [
    {
     "data": {
      "text/plain": [
       "<fastai.learner.Learner at 0x7f18bd5ac890>"
      ]
     },
     "execution_count": 5,
     "metadata": {},
     "output_type": "execute_result"
    }
   ],
   "source": [
    "#Settings\n",
    "arch = \"resnet18\"\n",
    "path = Path(\"/kaggle/input/generating-patches-0-5-ratio\")\n",
    "\n",
    "#Callbacks\n",
    "aug_transforms = [Flip(), Dihedral(p=1.0), Contrast(0.1), Brightness(0.1), Zoom(), Warp(magnitude=0.1)]\n",
    "\n",
    "cbs = [EarlyStoppingCallback(min_delta=0.001, patience=4)]\n",
    "\n",
    "#Loss functions and metrics\n",
    "loss_func=LabelSmoothingCrossEntropy()\n",
    "metrics = [error_rate, RocAucBinary()]\n",
    "\n",
    "#Datablock\n",
    "\n",
    "dls = DataBlock(blocks=(ImageBlock, CategoryBlock), \n",
    "                 get_items=get_image_files, \n",
    "                 get_y=lambda x: 1 if \"MALIGNANT\" in str(x) else 0,\n",
    "                 batch_tfms=[*aug_transforms, Normalize.from_stats(*imagenet_stats)],\n",
    "               ).dataloaders(path, bs=64, shuffle=True)\n",
    "\n",
    "\n",
    "\n",
    "patch_classifier = vision_learner(dls, arch, metrics=metrics, loss_func=loss_func, pretrained=False).to_fp16()\n",
    "patch_classifier.load(\"/kaggle/input/models/patch_finetuned\")"
   ]
  },
  {
   "cell_type": "markdown",
   "id": "6f83455a",
   "metadata": {
    "papermill": {
     "duration": 0.006762,
     "end_time": "2023-02-18T09:20:06.089908",
     "exception": false,
     "start_time": "2023-02-18T09:20:06.083146",
     "status": "completed"
    },
    "tags": []
   },
   "source": [
    "### ROI classifier"
   ]
  },
  {
   "cell_type": "code",
   "execution_count": 6,
   "id": "e2cbbdb3",
   "metadata": {
    "execution": {
     "iopub.execute_input": "2023-02-18T09:20:06.106116Z",
     "iopub.status.busy": "2023-02-18T09:20:06.105434Z",
     "iopub.status.idle": "2023-02-18T09:20:13.232391Z",
     "shell.execute_reply": "2023-02-18T09:20:13.231496Z"
    },
    "papermill": {
     "duration": 7.137495,
     "end_time": "2023-02-18T09:20:13.234564",
     "exception": false,
     "start_time": "2023-02-18T09:20:06.097069",
     "status": "completed"
    },
    "tags": []
   },
   "outputs": [
    {
     "data": {
      "text/plain": [
       "92"
      ]
     },
     "execution_count": 6,
     "metadata": {},
     "output_type": "execute_result"
    }
   ],
   "source": [
    "arch =  \"resnet18\"\n",
    "path = Path(\"/kaggle/input/roi-patches\")\n",
    "\n",
    "cbs = [EarlyStoppingCallback(min_delta=0.001, patience=4),\n",
    "      SaveModelCallback(with_opt=True)]\n",
    "\n",
    "loss_func = LabelSmoothingCrossEntropy()\n",
    "metrics = [error_rate, RocAucBinary()]\n",
    "\n",
    "# label_smoothing_weights = torch.tensor([1,50]).float()\n",
    "# if torch.cuda.is_available():\n",
    "#     label_smoothing_weights = label_smoothing_weights.cuda()\n",
    "\n",
    "dls = DataBlock(blocks=(ImageBlock, CategoryBlock), \n",
    "                 get_items=get_image_files, \n",
    "                 get_y=lambda x: 1 if \"MALIGNANT\" in str(x) else 0,\n",
    "                 batch_tfms=[*aug_transforms, Normalize.from_stats(*imagenet_stats)],\n",
    "               ).dataloaders(path, bs=32, shuffle=True)\n",
    "\n",
    "roi_classifier = vision_learner(dls, arch, metrics=metrics, loss_func=loss_func, pretrained=False).to_fp16()\n",
    "\n",
    "roi_classifier = roi_classifier.load(\"/kaggle/input/models/roi_finetuned\")\n",
    "\n",
    "del dls\n",
    "gc.collect()"
   ]
  },
  {
   "cell_type": "markdown",
   "id": "fb4b181f",
   "metadata": {
    "papermill": {
     "duration": 0.006841,
     "end_time": "2023-02-18T09:20:13.248682",
     "exception": false,
     "start_time": "2023-02-18T09:20:13.241841",
     "status": "completed"
    },
    "tags": []
   },
   "source": [
    "## Optimization functions"
   ]
  },
  {
   "cell_type": "markdown",
   "id": "8ff31bbf",
   "metadata": {
    "papermill": {
     "duration": 0.006584,
     "end_time": "2023-02-18T09:20:13.262197",
     "exception": false,
     "start_time": "2023-02-18T09:20:13.255613",
     "status": "completed"
    },
    "tags": []
   },
   "source": [
    "## Data processing"
   ]
  },
  {
   "cell_type": "code",
   "execution_count": 7,
   "id": "e8532828",
   "metadata": {
    "execution": {
     "iopub.execute_input": "2023-02-18T09:20:13.278305Z",
     "iopub.status.busy": "2023-02-18T09:20:13.277951Z",
     "iopub.status.idle": "2023-02-18T09:20:13.296450Z",
     "shell.execute_reply": "2023-02-18T09:20:13.295187Z"
    },
    "papermill": {
     "duration": 0.029196,
     "end_time": "2023-02-18T09:20:13.298507",
     "exception": false,
     "start_time": "2023-02-18T09:20:13.269311",
     "status": "completed"
    },
    "tags": []
   },
   "outputs": [],
   "source": [
    "#Processing functions\n",
    "\n",
    "def _load_dicom(path: str):\n",
    "    dcmfile = dicom.open(path)\n",
    "    return dcmfile, dcmfile.pixelData()\n",
    "\n",
    "def _windowing(scan, img):\n",
    "    \n",
    "    center = scan.WindowCenter\n",
    "    width = scan.WindowWidth\n",
    "    bits_stored = scan.BitsStored\n",
    "    try:\n",
    "        function = scan.VOILUTFunction\n",
    "    except: \n",
    "        try:\n",
    "            if scan.PixelIntensityRelationship == \"LOG\":\n",
    "                function = \"SIGMOID\"\n",
    "        except:\n",
    "            function = \"LINEAR\"\n",
    "    if type(scan.WindowWidth) in [list, pydicom.multival.MultiValue]:\n",
    "        center = center[0]\n",
    "        width = width[0] \n",
    "    y_range = float(2**bits_stored - 1)\n",
    "    if function == 'SIGMOID':\n",
    "        img = y_range / (1 + np.exp(-4 * (img - center) / width))\n",
    "    else: # LINEAR\n",
    "        center -= 0.5\n",
    "        width -= 1\n",
    "        below = img <= (center - width / 2)\n",
    "        above = img > (center + width / 2)\n",
    "        between = np.logical_and(~below, ~above)\n",
    "        img[below] = 0\n",
    "        img[above] = y_range\n",
    "        img[between] = ((img[between] - center) / width + 0.5) * y_range\n",
    "    return img\n",
    "\n",
    "def _fix_photometric_inter(scan, img):\n",
    "\n",
    "    if scan.PhotometricInterpretation == 'MONOCHROME1':\n",
    "        return img.max() - img\n",
    "    else:\n",
    "        return img - img.min()\n",
    "\n",
    "    return img\n",
    "    \n",
    "def _hist_eq(img):\n",
    "    img = _convert_to_8bit(img)\n",
    "    return cv2.equalizeHist(img)\n",
    "\n",
    "def _convert_to_8bit(img):\n",
    "    return (img / img.max()*255).astype(np.uint8)\n",
    "\n",
    "def _padresize_to_width(img, size):\n",
    "        \n",
    "    h, w  = img.shape\n",
    "\n",
    "    # If the width of the image is less than the desired width\n",
    "    if w < size[1]:\n",
    "        # Add padding to the right side of the image to reach the desired width\n",
    "        img = cv2.copyMakeBorder(img, 0, 0, 0, size[1] - w, cv2.BORDER_CONSTANT, value=(0, 0, 0))\n",
    "\n",
    "    # If the width of the image is greater than the desired width\n",
    "    if w > size[1]:\n",
    "        # Resize the image to the desired width\n",
    "        img = cv2.resize(img, (size[1], size[0]))\n",
    "        # Resize the mask if provided with interpolation set to nearest to keep pixel values\n",
    "    return img\n",
    "\n",
    "def _resize_to_height(img, size):\n",
    "\n",
    "    h,w = img.shape\n",
    "    r = h/w\n",
    "    new_size = (int(size[0]/r), size[0])\n",
    "\n",
    "    img = cv2.resize(img, new_size)\n",
    "\n",
    "    return img\n",
    "\n",
    "def _crop_roi(img):\n",
    "\n",
    "    bin_img = _binarize(img)\n",
    "    contour = _find_contours(bin_img)\n",
    "\n",
    "    x1, x2 = np.min(contour[:, :, 0]), np.max(contour[:, :, 0])\n",
    "    y1, y2 = np.min(contour[:, :, 1]), np.max(contour[:, :, 1])\n",
    "\n",
    "    return img[y1:y2, x1:x2] \n",
    "\n",
    "def _remove_background(img):\n",
    "\n",
    "    bin_img = _binarize(img)\n",
    "    contour = _find_contours(bin_img)\n",
    "\n",
    "    mask = np.zeros(bin_img.shape, np.uint8)\n",
    "    cv2.drawContours(mask, [contour], -1, 255, cv2.FILLED)\n",
    "\n",
    "    return img * mask\n",
    "\n",
    "def _find_contours(bin_img):\n",
    "\n",
    "    contours, _ = cv2.findContours(bin_img, cv2.RETR_EXTERNAL, cv2.CHAIN_APPROX_NONE)\n",
    "    contour = max(contours, key=cv2.contourArea)\n",
    "\n",
    "    return contour\n",
    "\n",
    "def _binarize(img):\n",
    "\n",
    "    binarized = (img > (img.max()*0.05)).astype(\"uint8\")\n",
    "\n",
    "    return binarized\n",
    "\n",
    "def _correct_side(img):\n",
    "\n",
    "    col_sums_split = np.array_split(np.sum(img, axis=0), 2)\n",
    "    left_col_sum = np.sum(col_sums_split[0])\n",
    "    right_col_sum = np.sum(col_sums_split[1])\n",
    "\n",
    "    if left_col_sum > right_col_sum: \n",
    "        return img\n",
    "    else: \n",
    "        return np.fliplr(img)"
   ]
  },
  {
   "cell_type": "code",
   "execution_count": 8,
   "id": "2e739a3d",
   "metadata": {
    "execution": {
     "iopub.execute_input": "2023-02-18T09:20:13.314837Z",
     "iopub.status.busy": "2023-02-18T09:20:13.313921Z",
     "iopub.status.idle": "2023-02-18T09:20:13.322258Z",
     "shell.execute_reply": "2023-02-18T09:20:13.321353Z"
    },
    "papermill": {
     "duration": 0.018441,
     "end_time": "2023-02-18T09:20:13.324241",
     "exception": false,
     "start_time": "2023-02-18T09:20:13.305800",
     "status": "completed"
    },
    "tags": []
   },
   "outputs": [],
   "source": [
    "def preprocess_image(path:str, size: tuple=(4096,2048), hist_eq: bool=True, \n",
    "                     window_size: tuple=(256,256), stride: tuple=(128,128), j2k=False):\n",
    "    \n",
    "    if j2k:\n",
    "        scan = pydicom.dcmread(path)\n",
    "        offset = scan.PixelData.find(b'\\x00\\x00\\x00\\x0C')\n",
    "        jpeg_stream = bytearray(scan.PixelData[offset:])\n",
    "        img = j2k_decoder.decode(jpeg_stream)\n",
    "        \n",
    "    else:\n",
    "        scan, img = _load_dicom(path)\n",
    "\n",
    "    img = _windowing(scan, img)\n",
    "    img = _fix_photometric_inter(scan, img)\n",
    "    img = _correct_side(img)\n",
    "    img = _remove_background(img)\n",
    "    img = _crop_roi(img)\n",
    "    img = _resize_to_height(img, size)\n",
    "    img = _padresize_to_width(img, size)\n",
    "    if hist_eq:\n",
    "        img = _hist_eq(img)\n",
    "    else:\n",
    "        img = _convert_to_8bit(img)\n",
    "\n",
    "    name = _get_file_name(path)\n",
    "    patches = _generate_patches(img, window_size, stride)\n",
    "\n",
    "    return patches, name, img"
   ]
  },
  {
   "cell_type": "code",
   "execution_count": 9,
   "id": "fba16c5d",
   "metadata": {
    "execution": {
     "iopub.execute_input": "2023-02-18T09:20:13.339240Z",
     "iopub.status.busy": "2023-02-18T09:20:13.338955Z",
     "iopub.status.idle": "2023-02-18T09:20:13.346439Z",
     "shell.execute_reply": "2023-02-18T09:20:13.345365Z"
    },
    "papermill": {
     "duration": 0.017422,
     "end_time": "2023-02-18T09:20:13.348670",
     "exception": false,
     "start_time": "2023-02-18T09:20:13.331248",
     "status": "completed"
    },
    "tags": []
   },
   "outputs": [],
   "source": [
    "def _generate_patches(img, window_size, stride):\n",
    "        \n",
    "    patches = []\n",
    "    for y in range(0, img.shape[0]-window_size[0], stride[0]):\n",
    "        for x in range(0, img.shape[1]-window_size[1], stride[1]):\n",
    "            # Extract the patch from the image\n",
    "            patch = img[y:y+window_size[0], x:x+window_size[1]]\n",
    "            patches.append(patch)\n",
    "            \n",
    "    return patches      \n",
    "\n",
    "def _get_file_name(path): \n",
    "    name = path.split(\"/\")[-1].strip(\".dcm\")\n",
    "    return name"
   ]
  },
  {
   "cell_type": "code",
   "execution_count": 10,
   "id": "734d725f",
   "metadata": {
    "execution": {
     "iopub.execute_input": "2023-02-18T09:20:13.363969Z",
     "iopub.status.busy": "2023-02-18T09:20:13.363598Z",
     "iopub.status.idle": "2023-02-18T09:20:13.377201Z",
     "shell.execute_reply": "2023-02-18T09:20:13.376136Z"
    },
    "papermill": {
     "duration": 0.02403,
     "end_time": "2023-02-18T09:20:13.379686",
     "exception": false,
     "start_time": "2023-02-18T09:20:13.355656",
     "status": "completed"
    },
    "tags": []
   },
   "outputs": [],
   "source": [
    "def _get_center_of_mass(heatmap, threshold: float=0.5, num_of_centers: int=1):\n",
    "\n",
    "#     thresh = ((heatmap>threshold)*255).astype(np.uint8)\n",
    "#     contours, _ = cv2.findContours(\n",
    "#         thresh, cv2.RETR_LIST, cv2.CHAIN_APPROX_SIMPLE)\n",
    "#     contours = sorted(contours, key=cv2.contourArea, reverse=True)\n",
    "\n",
    "#     ctx = []\n",
    "#     if contours:\n",
    "#         for c in contours[:num_of_centers]:\n",
    "#             M = cv2.moments(c)\n",
    "#             if M['m00'] != 0:\n",
    "#                 cx = int(M['m10']/M['m00'])\n",
    "#                 cy = int(M['m01']/M['m00'])\n",
    "#             else:\n",
    "#                 for point in c[:num_of_centers]:\n",
    "#                     cx, cy = point[0]\n",
    "            \n",
    "#             ctx.append([cx,cy])\n",
    "            \n",
    "#     else: return None\n",
    "    \n",
    "#     ctx = np.array(ctx)\n",
    "#     ctx = ctx / heatmap.shape[::-1]\n",
    "        \n",
    "#     return ctx\n",
    "\n",
    "    if heatmap.max() <= threshold:\n",
    "        return None\n",
    "    \n",
    "    max_coords = np.array(np.unravel_index(np.argmax(heatmap), heatmap.shape), dtype=int)[:2]\n",
    "    return  max_coords / heatmap.shape\n",
    "    \n",
    "def _get_roi(center, size=512, img_shape=(4096,2048)):\n",
    "\n",
    "    cy, cx = (center*img_shape).astype(int)\n",
    "\n",
    "    start_x = cx - size//2\n",
    "    start_y = cy - size//2\n",
    "    end_x = cx + size//2\n",
    "    end_y = cy + size//2\n",
    "\n",
    "    if start_x < 0:\n",
    "        end_x -= start_x\n",
    "        start_x = 0\n",
    "    if start_y < 0:\n",
    "        end_y -= start_y\n",
    "        start_y = 0\n",
    "    if end_x > img_shape[1]:\n",
    "        start_x -= end_x - img_shape[1]\n",
    "        end_x = img_shape[1]\n",
    "    if end_y > img_shape[0]:\n",
    "        start_y -= end_y - img_shape[0]\n",
    "        end_y = img_shape[0]\n",
    "\n",
    "    return start_x, start_y, end_x, end_y\n",
    "\n",
    "def _save_roi(image, name, start_x, start_y, end_x, end_y, i: int=0):\n",
    "    \n",
    "    roi = image[start_y:end_y, start_x:end_x]\n",
    "    cv2.imwrite(f\"/kaggle/tmp/output/{name}.png\", roi)\n",
    "\n",
    "def extract_and_save_roi(image, heatmap, name, threshold, num_of_centers: int=1, roi_size: int=512):\n",
    "    \n",
    "    img_shape = image.shape\n",
    "    center = _get_center_of_mass(heatmap, threshold, num_of_centers)\n",
    "    \n",
    "    if center is None:\n",
    "        return None\n",
    "    \n",
    "    if num_of_centers>1:\n",
    "        for i, ct in enumerate(center):\n",
    "            start_x, start_y, end_x, end_y = _get_roi(ct, roi_size, img_shape)\n",
    "            _save_roi(image, name, start_x, start_y, end_x, end_y, i)\n",
    "    else: \n",
    "        start_x, start_y, end_x, end_y = _get_roi(center, roi_size, img_shape)\n",
    "        _save_roi(image, name, start_x, start_y, end_x, end_y)"
   ]
  },
  {
   "cell_type": "code",
   "execution_count": 11,
   "id": "63aac465",
   "metadata": {
    "execution": {
     "iopub.execute_input": "2023-02-18T09:20:13.395033Z",
     "iopub.status.busy": "2023-02-18T09:20:13.394726Z",
     "iopub.status.idle": "2023-02-18T09:20:13.400834Z",
     "shell.execute_reply": "2023-02-18T09:20:13.399829Z"
    },
    "papermill": {
     "duration": 0.016096,
     "end_time": "2023-02-18T09:20:13.402961",
     "exception": false,
     "start_time": "2023-02-18T09:20:13.386865",
     "status": "completed"
    },
    "tags": []
   },
   "outputs": [],
   "source": [
    "def make_transfer_syntax_uid(df, dcm_dir):\n",
    "    machine_id_to_transfer = {}\n",
    "    machine_id = df.machine_id.unique()\n",
    "    for i in machine_id:\n",
    "        d = df[df.machine_id == i].iloc[0]\n",
    "        f = f'{dcm_dir}/{d.patient_id}/{d.image_id}.dcm'\n",
    "        dicom = pydicom.dcmread(f)\n",
    "        machine_id_to_transfer[i] = dicom.file_meta.TransferSyntaxUID\n",
    "    return machine_id_to_transfer"
   ]
  },
  {
   "cell_type": "code",
   "execution_count": 12,
   "id": "f8b85e41",
   "metadata": {
    "execution": {
     "iopub.execute_input": "2023-02-18T09:20:13.418421Z",
     "iopub.status.busy": "2023-02-18T09:20:13.418139Z",
     "iopub.status.idle": "2023-02-18T09:20:13.669430Z",
     "shell.execute_reply": "2023-02-18T09:20:13.668435Z"
    },
    "papermill": {
     "duration": 0.261659,
     "end_time": "2023-02-18T09:20:13.671613",
     "exception": false,
     "start_time": "2023-02-18T09:20:13.409954",
     "status": "completed"
    },
    "tags": []
   },
   "outputs": [
    {
     "data": {
      "text/plain": [
       "0"
      ]
     },
     "execution_count": 12,
     "metadata": {},
     "output_type": "execute_result"
    }
   ],
   "source": [
    "TEST = False\n",
    "\n",
    "if TEST:\n",
    "    dst = \"train\"\n",
    "else: \n",
    "    dst = \"test\"\n",
    "\n",
    "test_df = pd.read_csv(f\"/kaggle/input/rsna-breast-cancer-detection/{dst}.csv\")\n",
    "dcm_dir = f\"/kaggle/input/rsna-breast-cancer-detection/{dst}_images\"\n",
    "\n",
    "machine_id_to_transfer = make_transfer_syntax_uid(test_df, dcm_dir)\n",
    "test_df.loc[:, 'i'] = np.arange(len(test_df))\n",
    "test_df.loc[:, 'TransferSyntaxUID'] = test_df.machine_id.map(machine_id_to_transfer)\n",
    "\n",
    "j2k_df = test_df[test_df.TransferSyntaxUID == '1.2.840.10008.1.2.4.90'].reset_index(drop=True)\n",
    "non_j2k_df = test_df[test_df.TransferSyntaxUID != '1.2.840.10008.1.2.4.90'].reset_index(drop=True)\n",
    "\n",
    "j2k_paths = j2k_df.apply(lambda d: f'{dcm_dir}/{d.patient_id}/{d.image_id}.dcm', axis=1).to_numpy()\n",
    "non_j2k_paths = non_j2k_df.apply(lambda d: f'{dcm_dir}/{d.patient_id}/{d.image_id}.dcm', axis=1).to_numpy()\n",
    "\n",
    "del j2k_df, non_j2k_df\n",
    "gc.collect()"
   ]
  },
  {
   "cell_type": "code",
   "execution_count": 13,
   "id": "ef766d94",
   "metadata": {
    "execution": {
     "iopub.execute_input": "2023-02-18T09:20:13.687614Z",
     "iopub.status.busy": "2023-02-18T09:20:13.687295Z",
     "iopub.status.idle": "2023-02-18T09:20:13.695206Z",
     "shell.execute_reply": "2023-02-18T09:20:13.693849Z"
    },
    "papermill": {
     "duration": 0.018775,
     "end_time": "2023-02-18T09:20:13.697911",
     "exception": false,
     "start_time": "2023-02-18T09:20:13.679136",
     "status": "completed"
    },
    "tags": []
   },
   "outputs": [
    {
     "name": "stdout",
     "output_type": "stream",
     "text": [
      "CPU times: user 1.3 ms, sys: 64 µs, total: 1.36 ms\n",
      "Wall time: 1.25 ms\n"
     ]
    }
   ],
   "source": [
    "%%time\n",
    "chunk_size = 32\n",
    "window_size = (256, 256) \n",
    "stride = (128, 128)\n",
    "image_size = (4096,2048)\n",
    "threshold = 0.5\n",
    "num_of_centers = 1 \n",
    "roi_size = 1024\n",
    "hist_eq = True\n",
    "\n",
    "#test_images = glob.glob(\"/kaggle/input/rsna-breast-cancer-detection/test_images/*/*.dcm\")\n",
    "#chunks = [test_images[i:i+chunk_size] for i in range(0, len(test_images), chunk_size)]\n",
    "#del test_images\n",
    "\n",
    "patches_per_image = int(((image_size[0]-window_size[0]) / stride[0]) * ((image_size[1]-window_size[1]) / stride[1]))\n",
    "\n",
    "all_patches = []\n",
    "img_names = []\n",
    "heatmaps = []\n",
    "imgs = []\n",
    "\n",
    "os.makedirs(\"/kaggle/tmp/output/\", exist_ok=True)"
   ]
  },
  {
   "cell_type": "code",
   "execution_count": 14,
   "id": "9eb42efc",
   "metadata": {
    "execution": {
     "iopub.execute_input": "2023-02-18T09:20:13.714152Z",
     "iopub.status.busy": "2023-02-18T09:20:13.713816Z",
     "iopub.status.idle": "2023-02-18T09:20:13.727830Z",
     "shell.execute_reply": "2023-02-18T09:20:13.726697Z"
    },
    "papermill": {
     "duration": 0.027914,
     "end_time": "2023-02-18T09:20:13.733634",
     "exception": false,
     "start_time": "2023-02-18T09:20:13.705720",
     "status": "completed"
    },
    "tags": []
   },
   "outputs": [
    {
     "name": "stderr",
     "output_type": "stream",
     "text": [
      "0it [00:00, ?it/s]"
     ]
    },
    {
     "name": "stdout",
     "output_type": "stream",
     "text": [
      "CPU times: user 4.82 ms, sys: 4 µs, total: 4.82 ms\n",
      "Wall time: 5.37 ms\n"
     ]
    },
    {
     "name": "stderr",
     "output_type": "stream",
     "text": [
      "\n"
     ]
    }
   ],
   "source": [
    "%%time\n",
    "\n",
    "chunks = [non_j2k_paths[i:i+chunk_size] for i in range(0, len(non_j2k_paths), chunk_size)]\n",
    "#del test_images\n",
    "\n",
    "for chunk in tqdm(chunks):\n",
    "    \n",
    "    patches, names, images = zip(*(Parallel(n_jobs=-1)(delayed(preprocess_image)(img_path, image_size, hist_eq, window_size, stride) for img_path in chunk)))\n",
    "    \n",
    "    patches = [patch for patches_part in patches for patch in patches_part]\n",
    "\n",
    "    with patch_classifier.no_bar(): \n",
    "        prob_preds = patch_classifier.get_preds(dl=patch_classifier.dls.test_dl(patches, bs=512, device=\"cuda\"))\n",
    "\n",
    "    for i in range(0, len(patches), patches_per_image):\n",
    "\n",
    "        heatmap = prob_preds[0][i:i+patches_per_image,1].view(30,-1,1)\n",
    "#         heatmap = heatmap.permute(2,0,1)\n",
    "#         heatmap = F.avg_pool2d(heatmap, (2,2), stride=1, padding=1)\n",
    "#         heatmap = heatmap.permute(1,2,0)\n",
    "        heatmaps.append(heatmap.numpy().squeeze())\n",
    "\n",
    "    patches = []\n",
    "    gc.collect()\n",
    "\n",
    "    assert len(names) == len(heatmaps) == len(images)\n",
    "\n",
    "    _ = Parallel(n_jobs=-1)(delayed(extract_and_save_roi)(image, heatmap, name, threshold, num_of_centers, roi_size) for heatmap, name, image in zip(heatmaps, names, images))\n",
    "\n",
    "#     for heatmap, name, image in zip(heatmaps, img_names, images):\n",
    "#         extract_and_save_roi(image, heatmap, name, threshold, num_of_centers, roi_size)\n",
    "\n",
    "    heatmaps = []\n",
    "    names = []\n",
    "    images = []\n",
    "    gc.collect()"
   ]
  },
  {
   "cell_type": "code",
   "execution_count": 15,
   "id": "cce49a83",
   "metadata": {
    "execution": {
     "iopub.execute_input": "2023-02-18T09:20:13.750313Z",
     "iopub.status.busy": "2023-02-18T09:20:13.750032Z",
     "iopub.status.idle": "2023-02-18T09:20:23.859619Z",
     "shell.execute_reply": "2023-02-18T09:20:23.858120Z"
    },
    "papermill": {
     "duration": 10.119919,
     "end_time": "2023-02-18T09:20:23.861854",
     "exception": false,
     "start_time": "2023-02-18T09:20:13.741935",
     "status": "completed"
    },
    "tags": []
   },
   "outputs": [
    {
     "name": "stderr",
     "output_type": "stream",
     "text": [
      "100%|██████████| 1/1 [00:10<00:00, 10.10s/it]"
     ]
    },
    {
     "name": "stdout",
     "output_type": "stream",
     "text": [
      "CPU times: user 3.45 s, sys: 1.33 s, total: 4.78 s\n",
      "Wall time: 10.1 s\n"
     ]
    },
    {
     "name": "stderr",
     "output_type": "stream",
     "text": [
      "\n"
     ]
    }
   ],
   "source": [
    "%%time\n",
    "\n",
    "all_patches = []\n",
    "names = []\n",
    "images = []\n",
    "heatmaps = []\n",
    "\n",
    "chunks = [j2k_paths[i:i+chunk_size] for i in range(0, len(j2k_paths), chunk_size)]\n",
    "j2k = True\n",
    "j2k_decoder = nvjpeg2k.Decoder()\n",
    "#del test_images\n",
    "\n",
    "for chunk in tqdm(chunks):\n",
    "    \n",
    "    for img_path in chunk:\n",
    "        patches, name, image = preprocess_image(img_path, image_size, hist_eq, window_size, stride, j2k=True)\n",
    "        all_patches.extend(patches)\n",
    "        images.append(image)\n",
    "        names.append(name)\n",
    "\n",
    "    with patch_classifier.no_bar(): \n",
    "        prob_preds = patch_classifier.get_preds(dl=patch_classifier.dls.test_dl(all_patches, bs=512, device=\"cuda\"))\n",
    "\n",
    "    for i in range(0, len(all_patches), patches_per_image):\n",
    "\n",
    "        heatmap = prob_preds[0][i:i+patches_per_image,1].view(30,-1,1)\n",
    "#         heatmap = heatmap.permute(2,0,1)\n",
    "#         heatmap = F.avg_pool2d(heatmap, (2,2), stride=1, padding=1)\n",
    "#         heatmap = heatmap.permute(1,2,0)\n",
    "        heatmaps.append(heatmap.numpy().squeeze())\n",
    "\n",
    "    all_patches = []\n",
    "    gc.collect()\n",
    "\n",
    "    assert len(names) == len(heatmaps) == len(images)\n",
    "\n",
    "    _ = Parallel(n_jobs=-1)(delayed(extract_and_save_roi)(image, heatmap, name, threshold, num_of_centers, roi_size) for heatmap, name, image in zip(heatmaps, names, images))\n",
    "\n",
    "#     for heatmap, name, image in zip(heatmaps, img_names, images):\n",
    "#         extract_and_save_roi(image, heatmap, name, threshold, num_of_centers, roi_size)\n",
    "\n",
    "    heatmaps = []\n",
    "    names = []\n",
    "    images = []\n",
    "    gc.collect()"
   ]
  },
  {
   "cell_type": "markdown",
   "id": "4e5ba80d",
   "metadata": {
    "papermill": {
     "duration": 0.007488,
     "end_time": "2023-02-18T09:20:23.877328",
     "exception": false,
     "start_time": "2023-02-18T09:20:23.869840",
     "status": "completed"
    },
    "tags": []
   },
   "source": [
    "## Predicting on test"
   ]
  },
  {
   "cell_type": "code",
   "execution_count": 16,
   "id": "ad058143",
   "metadata": {
    "execution": {
     "iopub.execute_input": "2023-02-18T09:20:23.893920Z",
     "iopub.status.busy": "2023-02-18T09:20:23.893562Z",
     "iopub.status.idle": "2023-02-18T09:20:24.214978Z",
     "shell.execute_reply": "2023-02-18T09:20:24.213934Z"
    },
    "papermill": {
     "duration": 0.332618,
     "end_time": "2023-02-18T09:20:24.217374",
     "exception": false,
     "start_time": "2023-02-18T09:20:23.884756",
     "status": "completed"
    },
    "tags": []
   },
   "outputs": [
    {
     "data": {
      "text/html": [
       "\n",
       "<style>\n",
       "    /* Turns off some styling */\n",
       "    progress {\n",
       "        /* gets rid of default border in Firefox and Opera. */\n",
       "        border: none;\n",
       "        /* Needs to be in here for Safari polyfill so background images work as expected. */\n",
       "        background-size: auto;\n",
       "    }\n",
       "    progress:not([value]), progress:not([value])::-webkit-progress-bar {\n",
       "        background: repeating-linear-gradient(45deg, #7e7e7e, #7e7e7e 10px, #5c5c5c 10px, #5c5c5c 20px);\n",
       "    }\n",
       "    .progress-bar-interrupted, .progress-bar-interrupted::-webkit-progress-bar {\n",
       "        background: #F44336;\n",
       "    }\n",
       "</style>\n"
      ],
      "text/plain": [
       "<IPython.core.display.HTML object>"
      ]
     },
     "metadata": {},
     "output_type": "display_data"
    },
    {
     "data": {
      "text/html": [],
      "text/plain": [
       "<IPython.core.display.HTML object>"
      ]
     },
     "metadata": {},
     "output_type": "display_data"
    },
    {
     "name": "stdout",
     "output_type": "stream",
     "text": [
      "CPU times: user 92.9 ms, sys: 68.9 ms, total: 162 ms\n",
      "Wall time: 314 ms\n"
     ]
    }
   ],
   "source": [
    "%%time\n",
    "\n",
    "preds_all = []\n",
    "test_dl = roi_classifier.dls.test_dl(get_image_files(f'/kaggle/tmp/output/'), bs=64, device=\"cuda\")\n",
    "\n",
    "preds, _ = roi_classifier.get_preds(dl=test_dl)\n",
    "preds_all.append(preds)"
   ]
  },
  {
   "cell_type": "code",
   "execution_count": 17,
   "id": "590bdd5d",
   "metadata": {
    "execution": {
     "iopub.execute_input": "2023-02-18T09:20:24.235556Z",
     "iopub.status.busy": "2023-02-18T09:20:24.235158Z",
     "iopub.status.idle": "2023-02-18T09:20:24.243733Z",
     "shell.execute_reply": "2023-02-18T09:20:24.242851Z"
    },
    "papermill": {
     "duration": 0.020117,
     "end_time": "2023-02-18T09:20:24.245904",
     "exception": false,
     "start_time": "2023-02-18T09:20:24.225787",
     "status": "completed"
    },
    "tags": []
   },
   "outputs": [],
   "source": [
    "preds = torch.zeros_like(preds_all[0])\n",
    "for pred in preds_all:\n",
    "    preds += pred\n",
    "\n",
    "# preds /= NUM_SPLITS\n",
    "preds = (preds>0.8).int()\n",
    "\n",
    "# #preds = optimize_preds(preds, thresh=threshold)\n",
    "image_ids = [path.stem for path in test_dl.items]\n",
    "\n",
    "image_id2pred = defaultdict(lambda: 0)\n",
    "for image_id, pred in zip(image_ids, preds[:, 1]):\n",
    "    image_id2pred[int(image_id)] = pred.item()"
   ]
  },
  {
   "cell_type": "markdown",
   "id": "bec4f808",
   "metadata": {
    "papermill": {
     "duration": 0.007542,
     "end_time": "2023-02-18T09:20:24.261394",
     "exception": false,
     "start_time": "2023-02-18T09:20:24.253852",
     "status": "completed"
    },
    "tags": []
   },
   "source": [
    "<a id=\"section-three\"></a>\n",
    "# Making a submission"
   ]
  },
  {
   "cell_type": "code",
   "execution_count": 18,
   "id": "47af1ed0",
   "metadata": {
    "execution": {
     "iopub.execute_input": "2023-02-18T09:20:24.278647Z",
     "iopub.status.busy": "2023-02-18T09:20:24.277761Z",
     "iopub.status.idle": "2023-02-18T09:20:24.303533Z",
     "shell.execute_reply": "2023-02-18T09:20:24.302534Z"
    },
    "papermill": {
     "duration": 0.036738,
     "end_time": "2023-02-18T09:20:24.305659",
     "exception": false,
     "start_time": "2023-02-18T09:20:24.268921",
     "status": "completed"
    },
    "tags": []
   },
   "outputs": [
    {
     "data": {
      "text/html": [
       "<div>\n",
       "<style scoped>\n",
       "    .dataframe tbody tr th:only-of-type {\n",
       "        vertical-align: middle;\n",
       "    }\n",
       "\n",
       "    .dataframe tbody tr th {\n",
       "        vertical-align: top;\n",
       "    }\n",
       "\n",
       "    .dataframe thead th {\n",
       "        text-align: right;\n",
       "    }\n",
       "</style>\n",
       "<table border=\"1\" class=\"dataframe\">\n",
       "  <thead>\n",
       "    <tr style=\"text-align: right;\">\n",
       "      <th></th>\n",
       "      <th>prediction_id</th>\n",
       "      <th>cancer</th>\n",
       "    </tr>\n",
       "  </thead>\n",
       "  <tbody>\n",
       "    <tr>\n",
       "      <th>0</th>\n",
       "      <td>10008_L</td>\n",
       "      <td>0</td>\n",
       "    </tr>\n",
       "    <tr>\n",
       "      <th>1</th>\n",
       "      <td>10008_R</td>\n",
       "      <td>0</td>\n",
       "    </tr>\n",
       "  </tbody>\n",
       "</table>\n",
       "</div>"
      ],
      "text/plain": [
       "  prediction_id  cancer\n",
       "0       10008_L       0\n",
       "1       10008_R       0"
      ]
     },
     "execution_count": 18,
     "metadata": {},
     "output_type": "execute_result"
    }
   ],
   "source": [
    "test_csv = pd.read_csv('/kaggle/input/rsna-breast-cancer-detection/test.csv')\n",
    "\n",
    "prediction_ids = []\n",
    "preds = []\n",
    "\n",
    "for _, row in test_csv.iterrows():\n",
    "    prediction_ids.append(row.prediction_id)\n",
    "    preds.append(image_id2pred.get(row.image_id, 0))\n",
    "\n",
    "submission = pd.DataFrame(data={'prediction_id': prediction_ids, 'cancer': preds}).groupby('prediction_id').max().reset_index()\n",
    "submission.head()"
   ]
  },
  {
   "cell_type": "code",
   "execution_count": 19,
   "id": "0a033706",
   "metadata": {
    "execution": {
     "iopub.execute_input": "2023-02-18T09:20:24.323115Z",
     "iopub.status.busy": "2023-02-18T09:20:24.322534Z",
     "iopub.status.idle": "2023-02-18T09:20:24.329687Z",
     "shell.execute_reply": "2023-02-18T09:20:24.328800Z"
    },
    "papermill": {
     "duration": 0.017858,
     "end_time": "2023-02-18T09:20:24.331635",
     "exception": false,
     "start_time": "2023-02-18T09:20:24.313777",
     "status": "completed"
    },
    "tags": []
   },
   "outputs": [],
   "source": [
    "submission.to_csv('submission.csv', index=False)"
   ]
  }
 ],
 "metadata": {
  "kernelspec": {
   "display_name": "Python 3",
   "language": "python",
   "name": "python3"
  },
  "language_info": {
   "codemirror_mode": {
    "name": "ipython",
    "version": 3
   },
   "file_extension": ".py",
   "mimetype": "text/x-python",
   "name": "python",
   "nbconvert_exporter": "python",
   "pygments_lexer": "ipython3",
   "version": "3.7.12"
  },
  "papermill": {
   "default_parameters": {},
   "duration": 187.944974,
   "end_time": "2023-02-18T09:20:27.162817",
   "environment_variables": {},
   "exception": null,
   "input_path": "__notebook__.ipynb",
   "output_path": "__notebook__.ipynb",
   "parameters": {},
   "start_time": "2023-02-18T09:17:19.217843",
   "version": "2.3.4"
  }
 },
 "nbformat": 4,
 "nbformat_minor": 5
}
