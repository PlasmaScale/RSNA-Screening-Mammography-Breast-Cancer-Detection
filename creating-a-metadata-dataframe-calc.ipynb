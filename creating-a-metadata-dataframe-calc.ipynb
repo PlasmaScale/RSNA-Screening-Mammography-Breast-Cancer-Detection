{
 "cells": [
  {
   "cell_type": "code",
   "execution_count": 1,
   "id": "cc56380b",
   "metadata": {
    "execution": {
     "iopub.execute_input": "2023-01-26T15:29:19.770467Z",
     "iopub.status.busy": "2023-01-26T15:29:19.770009Z",
     "iopub.status.idle": "2023-01-26T15:29:24.089178Z",
     "shell.execute_reply": "2023-01-26T15:29:24.087663Z"
    },
    "papermill": {
     "duration": 4.329358,
     "end_time": "2023-01-26T15:29:24.092370",
     "exception": false,
     "start_time": "2023-01-26T15:29:19.763012",
     "status": "completed"
    },
    "tags": []
   },
   "outputs": [],
   "source": [
    "from fastai.basics import *\n",
    "from fastai.medical.imaging import *"
   ]
  },
  {
   "cell_type": "code",
   "execution_count": 2,
   "id": "d58aeb3e",
   "metadata": {
    "execution": {
     "iopub.execute_input": "2023-01-26T15:29:24.101642Z",
     "iopub.status.busy": "2023-01-26T15:29:24.100829Z",
     "iopub.status.idle": "2023-01-26T15:29:24.110096Z",
     "shell.execute_reply": "2023-01-26T15:29:24.108887Z"
    },
    "papermill": {
     "duration": 0.016594,
     "end_time": "2023-01-26T15:29:24.112557",
     "exception": false,
     "start_time": "2023-01-26T15:29:24.095963",
     "status": "completed"
    },
    "tags": []
   },
   "outputs": [],
   "source": [
    "class CreateDicomDf():\n",
    "    \n",
    "    def __init__(self, path: str):\n",
    "        self.path = Path(path)\n",
    "        self.items = get_dicom_files(self.path)\n",
    "        \n",
    "    def get_sample_names(self, n=5):\n",
    "        return self.items[:n].attrgot(\"name\")\n",
    "    \n",
    "    def show_example(self):\n",
    "        idx = np.random.randint(0, len(self.items))\n",
    "        sample = self.items[idx].dcmread()\n",
    "        return sample, sample.show()\n",
    "    \n",
    "    def create_dicom_df(self, name: str, px_summ=False):\n",
    "        df = pd.DataFrame.from_dicoms(self.items, px_summ=px_summ)\n",
    "        df.to_csv(f\"{name}.csv\")\n",
    "        return df.head()\n",
    "    \n",
    "    def __len__(self):\n",
    "        return len(self.items)"
   ]
  },
  {
   "cell_type": "code",
   "execution_count": 3,
   "id": "4c0f210a",
   "metadata": {
    "execution": {
     "iopub.execute_input": "2023-01-26T15:29:24.120112Z",
     "iopub.status.busy": "2023-01-26T15:29:24.119704Z",
     "iopub.status.idle": "2023-01-26T15:29:37.404620Z",
     "shell.execute_reply": "2023-01-26T15:29:37.403402Z"
    },
    "papermill": {
     "duration": 13.292294,
     "end_time": "2023-01-26T15:29:37.407969",
     "exception": false,
     "start_time": "2023-01-26T15:29:24.115675",
     "status": "completed"
    },
    "tags": []
   },
   "outputs": [],
   "source": [
    "path = \"/kaggle/input/calctraining-roimask-and-crpped-images/CBIS-DDSM\"\n",
    "roimask_cropped_imgs = CreateDicomDf(path)"
   ]
  },
  {
   "cell_type": "code",
   "execution_count": 4,
   "id": "87109f27",
   "metadata": {
    "execution": {
     "iopub.execute_input": "2023-01-26T15:29:37.417201Z",
     "iopub.status.busy": "2023-01-26T15:29:37.416009Z",
     "iopub.status.idle": "2023-01-26T15:29:37.426518Z",
     "shell.execute_reply": "2023-01-26T15:29:37.425396Z"
    },
    "papermill": {
     "duration": 0.019132,
     "end_time": "2023-01-26T15:29:37.430442",
     "exception": false,
     "start_time": "2023-01-26T15:29:37.411310",
     "status": "completed"
    },
    "tags": []
   },
   "outputs": [
    {
     "name": "stdout",
     "output_type": "stream",
     "text": [
      "Number of images: 3092\n"
     ]
    },
    {
     "data": {
      "text/plain": [
       "(#5) ['1-2.dcm','1-1.dcm','1-2.dcm','1-1.dcm','1-2.dcm']"
      ]
     },
     "execution_count": 4,
     "metadata": {},
     "output_type": "execute_result"
    }
   ],
   "source": [
    "print(f\"Number of images: {len(roimask_cropped_imgs)}\")\n",
    "roimask_cropped_imgs.get_sample_names()"
   ]
  },
  {
   "cell_type": "code",
   "execution_count": 5,
   "id": "6293afbd",
   "metadata": {
    "execution": {
     "iopub.execute_input": "2023-01-26T15:29:37.439277Z",
     "iopub.status.busy": "2023-01-26T15:29:37.438628Z",
     "iopub.status.idle": "2023-01-26T15:29:37.894369Z",
     "shell.execute_reply": "2023-01-26T15:29:37.893259Z"
    },
    "papermill": {
     "duration": 0.463075,
     "end_time": "2023-01-26T15:29:37.896965",
     "exception": false,
     "start_time": "2023-01-26T15:29:37.433890",
     "status": "completed"
    },
    "tags": []
   },
   "outputs": [
    {
     "data": {
      "text/plain": [
       "(Dataset.file_meta -------------------------------\n",
       " (0002, 0000) File Meta Information Group Length  UL: 194\n",
       " (0002, 0001) File Meta Information Version       OB: b'\\x00\\x01'\n",
       " (0002, 0002) Media Storage SOP Class UID         UI: Secondary Capture Image Storage\n",
       " (0002, 0003) Media Storage SOP Instance UID      UI: 1.3.6.1.4.1.9590.100.1.2.350195951511477488426789574562785911851\n",
       " (0002, 0010) Transfer Syntax UID                 UI: Implicit VR Little Endian\n",
       " (0002, 0012) Implementation Class UID            UI: 1.2.40.0.13.1.1.1\n",
       " (0002, 0013) Implementation Version Name         SH: 'dcm4che-1.4.35'\n",
       " -------------------------------------------------\n",
       " (0008, 0005) Specific Character Set              CS: 'ISO_IR 100'\n",
       " (0008, 0016) SOP Class UID                       UI: Secondary Capture Image Storage\n",
       " (0008, 0018) SOP Instance UID                    UI: 1.3.6.1.4.1.9590.100.1.2.350195951511477488426789574562785911851\n",
       " (0008, 0020) Study Date                          DA: '20170830'\n",
       " (0008, 0023) Content Date                        DA: '20160503'\n",
       " (0008, 0030) Study Time                          TM: '215549'\n",
       " (0008, 0033) Content Time                        TM: '135313.096000'\n",
       " (0008, 0050) Accession Number                    SH: ''\n",
       " (0008, 0060) Modality                            CS: 'MG'\n",
       " (0008, 0064) Conversion Type                     CS: 'WSD'\n",
       " (0008, 0090) Referring Physician's Name          PN: ''\n",
       " (0008, 103e) Series Description                  LO: 'cropped images'\n",
       " (0010, 0010) Patient's Name                      PN: 'Calc-Training_P_02518_RIGHT_MLO_1'\n",
       " (0010, 0020) Patient ID                          LO: 'Calc-Training_P_02518_RIGHT_MLO_1'\n",
       " (0010, 0030) Patient's Birth Date                DA: ''\n",
       " (0010, 0040) Patient's Sex                       CS: ''\n",
       " (0013, 0010) Private Creator                     LO: 'CTP'\n",
       " (0013, 1010) Private tag data                    UN: b'CBIS-DDSM '\n",
       " (0013, 1013) Private tag data                    UN: b'43352602'\n",
       " (0018, 0015) Body Part Examined                  CS: 'BREAST'\n",
       " (0018, 1016) Secondary Capture Device Manufactur LO: 'MathWorks'\n",
       " (0018, 1018) Secondary Capture Device Manufactur LO: 'MATLAB'\n",
       " (0020, 000d) Study Instance UID                  UI: 1.3.6.1.4.1.9590.100.1.2.286873972712525498706704649102686897136\n",
       " (0020, 000e) Series Instance UID                 UI: 1.3.6.1.4.1.9590.100.1.2.16358608311888348829091293452221362171\n",
       " (0020, 0010) Study ID                            SH: 'DDSM'\n",
       " (0020, 0011) Series Number                       IS: '1'\n",
       " (0020, 0013) Instance Number                     IS: '1'\n",
       " (0020, 0020) Patient Orientation                 CS: 'MLO'\n",
       " (0020, 0060) Laterality                          CS: 'R'\n",
       " (0028, 0002) Samples per Pixel                   US: 1\n",
       " (0028, 0004) Photometric Interpretation          CS: 'MONOCHROME2'\n",
       " (0028, 0010) Rows                                US: 581\n",
       " (0028, 0011) Columns                             US: 1385\n",
       " (0028, 0100) Bits Allocated                      US: 16\n",
       " (0028, 0101) Bits Stored                         US: 16\n",
       " (0028, 0102) High Bit                            US: 15\n",
       " (0028, 0103) Pixel Representation                US: 0\n",
       " (0028, 0106) Smallest Image Pixel Value          US: 0\n",
       " (0028, 0107) Largest Image Pixel Value           US: 65535\n",
       " (7fe0, 0010) Pixel Data                          OW: Array of 1609370 elements,\n",
       " None)"
      ]
     },
     "execution_count": 5,
     "metadata": {},
     "output_type": "execute_result"
    },
    {
     "data": {
      "image/png": "[encoded data removed]",
      "text/plain": [
       "<Figure size 360x360 with 1 Axes>"
      ]
     },
     "metadata": {
      "needs_background": "light"
     },
     "output_type": "display_data"
    }
   ],
   "source": [
    "roimask_cropped_imgs.show_example()"
   ]
  },
  {
   "cell_type": "code",
   "execution_count": 6,
   "id": "6eee95e5",
   "metadata": {
    "execution": {
     "iopub.execute_input": "2023-01-26T15:29:37.911147Z",
     "iopub.status.busy": "2023-01-26T15:29:37.910454Z",
     "iopub.status.idle": "2023-01-26T15:39:03.804495Z",
     "shell.execute_reply": "2023-01-26T15:39:03.802132Z"
    },
    "papermill": {
     "duration": 565.914667,
     "end_time": "2023-01-26T15:39:03.816545",
     "exception": false,
     "start_time": "2023-01-26T15:29:37.901878",
     "status": "completed"
    },
    "tags": []
   },
   "outputs": [
    {
     "data": {
      "text/html": [
       "<div>\n",
       "<style scoped>\n",
       "    .dataframe tbody tr th:only-of-type {\n",
       "        vertical-align: middle;\n",
       "    }\n",
       "\n",
       "    .dataframe tbody tr th {\n",
       "        vertical-align: top;\n",
       "    }\n",
       "\n",
       "    .dataframe thead th {\n",
       "        text-align: right;\n",
       "    }\n",
       "</style>\n",
       "<table border=\"1\" class=\"dataframe\">\n",
       "  <thead>\n",
       "    <tr style=\"text-align: right;\">\n",
       "      <th></th>\n",
       "      <th>SpecificCharacterSet</th>\n",
       "      <th>SOPClassUID</th>\n",
       "      <th>SOPInstanceUID</th>\n",
       "      <th>StudyDate</th>\n",
       "      <th>ContentDate</th>\n",
       "      <th>StudyTime</th>\n",
       "      <th>ContentTime</th>\n",
       "      <th>AccessionNumber</th>\n",
       "      <th>Modality</th>\n",
       "      <th>ConversionType</th>\n",
       "      <th>...</th>\n",
       "      <th>HighBit</th>\n",
       "      <th>PixelRepresentation</th>\n",
       "      <th>SmallestImagePixelValue</th>\n",
       "      <th>LargestImagePixelValue</th>\n",
       "      <th>fname</th>\n",
       "      <th>img_min</th>\n",
       "      <th>img_max</th>\n",
       "      <th>img_mean</th>\n",
       "      <th>img_std</th>\n",
       "      <th>img_pct_window</th>\n",
       "    </tr>\n",
       "  </thead>\n",
       "  <tbody>\n",
       "    <tr>\n",
       "      <th>0</th>\n",
       "      <td>ISO_IR 100</td>\n",
       "      <td>1.2.840.10008.5.1.4.1.1.7</td>\n",
       "      <td>1.3.6.1.4.1.9590.100.1.2.15100434013356500520766145571364130127</td>\n",
       "      <td>20170906</td>\n",
       "      <td>20160503</td>\n",
       "      <td>085625</td>\n",
       "      <td>125420.992000</td>\n",
       "      <td></td>\n",
       "      <td>MG</td>\n",
       "      <td>WSD</td>\n",
       "      <td>...</td>\n",
       "      <td>7</td>\n",
       "      <td>0</td>\n",
       "      <td>0</td>\n",
       "      <td>255</td>\n",
       "      <td>/kaggle/input/calctraining-roimask-and-crpped-images/CBIS-DDSM/Calc-Training_P_01293_RIGHT_MLO_1/1.3.6.1.4.1.9590.100.1.2.39619664512659730412187431883711260700/1.3.6.1.4.1.9590.100.1.2.313742823411562430408347460331482749149/1-2.dcm</td>\n",
       "      <td>0</td>\n",
       "      <td>255</td>\n",
       "      <td>0.248555</td>\n",
       "      <td>7.957366</td>\n",
       "      <td>0.0</td>\n",
       "    </tr>\n",
       "    <tr>\n",
       "      <th>1</th>\n",
       "      <td>ISO_IR 100</td>\n",
       "      <td>1.2.840.10008.5.1.4.1.1.7</td>\n",
       "      <td>1.3.6.1.4.1.9590.100.1.2.146599831611594799021007072404090856203</td>\n",
       "      <td>20170830</td>\n",
       "      <td>20160503</td>\n",
       "      <td>215348</td>\n",
       "      <td>125420.992000</td>\n",
       "      <td></td>\n",
       "      <td>MG</td>\n",
       "      <td>WSD</td>\n",
       "      <td>...</td>\n",
       "      <td>15</td>\n",
       "      <td>0</td>\n",
       "      <td>44515</td>\n",
       "      <td>65535</td>\n",
       "      <td>/kaggle/input/calctraining-roimask-and-crpped-images/CBIS-DDSM/Calc-Training_P_01293_RIGHT_MLO_1/1.3.6.1.4.1.9590.100.1.2.39619664512659730412187431883711260700/1.3.6.1.4.1.9590.100.1.2.313742823411562430408347460331482749149/1-1.dcm</td>\n",
       "      <td>-21021</td>\n",
       "      <td>-1</td>\n",
       "      <td>50020.646499</td>\n",
       "      <td>2423.293412</td>\n",
       "      <td>0.0</td>\n",
       "    </tr>\n",
       "    <tr>\n",
       "      <th>2</th>\n",
       "      <td>ISO_IR 100</td>\n",
       "      <td>1.2.840.10008.5.1.4.1.1.7</td>\n",
       "      <td>1.3.6.1.4.1.9590.100.1.2.312066707711170579427731728691190732726</td>\n",
       "      <td>20170906</td>\n",
       "      <td>20160503</td>\n",
       "      <td>090203</td>\n",
       "      <td>131310.917000</td>\n",
       "      <td></td>\n",
       "      <td>MG</td>\n",
       "      <td>WSD</td>\n",
       "      <td>...</td>\n",
       "      <td>7</td>\n",
       "      <td>0</td>\n",
       "      <td>0</td>\n",
       "      <td>255</td>\n",
       "      <td>/kaggle/input/calctraining-roimask-and-crpped-images/CBIS-DDSM/Calc-Training_P_01488_LEFT_MLO_1/1.3.6.1.4.1.9590.100.1.2.161424774413171755140562331431005189318/1.3.6.1.4.1.9590.100.1.2.76823745911997404013305900901222656538/1-2.dcm</td>\n",
       "      <td>0</td>\n",
       "      <td>255</td>\n",
       "      <td>8.988889</td>\n",
       "      <td>47.025169</td>\n",
       "      <td>0.0</td>\n",
       "    </tr>\n",
       "    <tr>\n",
       "      <th>3</th>\n",
       "      <td>ISO_IR 100</td>\n",
       "      <td>1.2.840.10008.5.1.4.1.1.7</td>\n",
       "      <td>1.3.6.1.4.1.9590.100.1.2.305646080010233899031741718142753288053</td>\n",
       "      <td>20170830</td>\n",
       "      <td>20160503</td>\n",
       "      <td>215429</td>\n",
       "      <td>131310.917000</td>\n",
       "      <td></td>\n",
       "      <td>MG</td>\n",
       "      <td>WSD</td>\n",
       "      <td>...</td>\n",
       "      <td>15</td>\n",
       "      <td>0</td>\n",
       "      <td>8782</td>\n",
       "      <td>65535</td>\n",
       "      <td>/kaggle/input/calctraining-roimask-and-crpped-images/CBIS-DDSM/Calc-Training_P_01488_LEFT_MLO_1/1.3.6.1.4.1.9590.100.1.2.161424774413171755140562331431005189318/1.3.6.1.4.1.9590.100.1.2.76823745911997404013305900901222656538/1-1.dcm</td>\n",
       "      <td>8782</td>\n",
       "      <td>-1</td>\n",
       "      <td>41425.227387</td>\n",
       "      <td>9606.588572</td>\n",
       "      <td>0.0</td>\n",
       "    </tr>\n",
       "    <tr>\n",
       "      <th>4</th>\n",
       "      <td>ISO_IR 100</td>\n",
       "      <td>1.2.840.10008.5.1.4.1.1.7</td>\n",
       "      <td>1.3.6.1.4.1.9590.100.1.2.148298301712019279521569120501290776809</td>\n",
       "      <td>20170906</td>\n",
       "      <td>20160503</td>\n",
       "      <td>082411</td>\n",
       "      <td>110107.187000</td>\n",
       "      <td></td>\n",
       "      <td>MG</td>\n",
       "      <td>WSD</td>\n",
       "      <td>...</td>\n",
       "      <td>7</td>\n",
       "      <td>0</td>\n",
       "      <td>0</td>\n",
       "      <td>255</td>\n",
       "      <td>/kaggle/input/calctraining-roimask-and-crpped-images/CBIS-DDSM/Calc-Training_P_00047_LEFT_MLO_1/1.3.6.1.4.1.9590.100.1.2.423605148511005351534018620271909026174/1.3.6.1.4.1.9590.100.1.2.209011943713455167027412576173668727159/1-2.dcm</td>\n",
       "      <td>0</td>\n",
       "      <td>255</td>\n",
       "      <td>0.161141</td>\n",
       "      <td>6.408194</td>\n",
       "      <td>0.0</td>\n",
       "    </tr>\n",
       "  </tbody>\n",
       "</table>\n",
       "<p>5 rows × 43 columns</p>\n",
       "</div>"
      ],
      "text/plain": [
       "  SpecificCharacterSet                SOPClassUID  \\\n",
       "0           ISO_IR 100  1.2.840.10008.5.1.4.1.1.7   \n",
       "1           ISO_IR 100  1.2.840.10008.5.1.4.1.1.7   \n",
       "2           ISO_IR 100  1.2.840.10008.5.1.4.1.1.7   \n",
       "3           ISO_IR 100  1.2.840.10008.5.1.4.1.1.7   \n",
       "4           ISO_IR 100  1.2.840.10008.5.1.4.1.1.7   \n",
       "\n",
       "                                                     SOPInstanceUID StudyDate  \\\n",
       "0   1.3.6.1.4.1.9590.100.1.2.15100434013356500520766145571364130127  20170906   \n",
       "1  1.3.6.1.4.1.9590.100.1.2.146599831611594799021007072404090856203  20170830   \n",
       "2  1.3.6.1.4.1.9590.100.1.2.312066707711170579427731728691190732726  20170906   \n",
       "3  1.3.6.1.4.1.9590.100.1.2.305646080010233899031741718142753288053  20170830   \n",
       "4  1.3.6.1.4.1.9590.100.1.2.148298301712019279521569120501290776809  20170906   \n",
       "\n",
       "  ContentDate StudyTime    ContentTime AccessionNumber Modality  \\\n",
       "0    20160503    085625  125420.992000                       MG   \n",
       "1    20160503    215348  125420.992000                       MG   \n",
       "2    20160503    090203  131310.917000                       MG   \n",
       "3    20160503    215429  131310.917000                       MG   \n",
       "4    20160503    082411  110107.187000                       MG   \n",
       "\n",
       "  ConversionType  ... HighBit PixelRepresentation SmallestImagePixelValue  \\\n",
       "0            WSD  ...       7                   0                       0   \n",
       "1            WSD  ...      15                   0                   44515   \n",
       "2            WSD  ...       7                   0                       0   \n",
       "3            WSD  ...      15                   0                    8782   \n",
       "4            WSD  ...       7                   0                       0   \n",
       "\n",
       "  LargestImagePixelValue  \\\n",
       "0                    255   \n",
       "1                  65535   \n",
       "2                    255   \n",
       "3                  65535   \n",
       "4                    255   \n",
       "\n",
       "                                                                                                                                                                                                                                       fname  \\\n",
       "0  /kaggle/input/calctraining-roimask-and-crpped-images/CBIS-DDSM/Calc-Training_P_01293_RIGHT_MLO_1/1.3.6.1.4.1.9590.100.1.2.39619664512659730412187431883711260700/1.3.6.1.4.1.9590.100.1.2.313742823411562430408347460331482749149/1-2.dcm   \n",
       "1  /kaggle/input/calctraining-roimask-and-crpped-images/CBIS-DDSM/Calc-Training_P_01293_RIGHT_MLO_1/1.3.6.1.4.1.9590.100.1.2.39619664512659730412187431883711260700/1.3.6.1.4.1.9590.100.1.2.313742823411562430408347460331482749149/1-1.dcm   \n",
       "2   /kaggle/input/calctraining-roimask-and-crpped-images/CBIS-DDSM/Calc-Training_P_01488_LEFT_MLO_1/1.3.6.1.4.1.9590.100.1.2.161424774413171755140562331431005189318/1.3.6.1.4.1.9590.100.1.2.76823745911997404013305900901222656538/1-2.dcm   \n",
       "3   /kaggle/input/calctraining-roimask-and-crpped-images/CBIS-DDSM/Calc-Training_P_01488_LEFT_MLO_1/1.3.6.1.4.1.9590.100.1.2.161424774413171755140562331431005189318/1.3.6.1.4.1.9590.100.1.2.76823745911997404013305900901222656538/1-1.dcm   \n",
       "4  /kaggle/input/calctraining-roimask-and-crpped-images/CBIS-DDSM/Calc-Training_P_00047_LEFT_MLO_1/1.3.6.1.4.1.9590.100.1.2.423605148511005351534018620271909026174/1.3.6.1.4.1.9590.100.1.2.209011943713455167027412576173668727159/1-2.dcm   \n",
       "\n",
       "  img_min img_max      img_mean      img_std img_pct_window  \n",
       "0       0     255      0.248555     7.957366            0.0  \n",
       "1  -21021      -1  50020.646499  2423.293412            0.0  \n",
       "2       0     255      8.988889    47.025169            0.0  \n",
       "3    8782      -1  41425.227387  9606.588572            0.0  \n",
       "4       0     255      0.161141     6.408194            0.0  \n",
       "\n",
       "[5 rows x 43 columns]"
      ]
     },
     "execution_count": 6,
     "metadata": {},
     "output_type": "execute_result"
    }
   ],
   "source": [
    "roimask_cropped_imgs.create_dicom_df(\"roimask_cropped_df\", px_summ=True)"
   ]
  },
  {
   "cell_type": "code",
   "execution_count": 7,
   "id": "3cf92972",
   "metadata": {
    "execution": {
     "iopub.execute_input": "2023-01-26T15:39:03.830310Z",
     "iopub.status.busy": "2023-01-26T15:39:03.829510Z",
     "iopub.status.idle": "2023-01-26T15:39:15.821712Z",
     "shell.execute_reply": "2023-01-26T15:39:15.820373Z"
    },
    "papermill": {
     "duration": 12.003782,
     "end_time": "2023-01-26T15:39:15.825389",
     "exception": false,
     "start_time": "2023-01-26T15:39:03.821607",
     "status": "completed"
    },
    "tags": []
   },
   "outputs": [],
   "source": [
    "path = \"/kaggle/input/calctraining-full-mammogram-images/CBIS-DDSM\"\n",
    "full_mammo_imgs = CreateDicomDf(path)"
   ]
  },
  {
   "cell_type": "code",
   "execution_count": 8,
   "id": "80f51918",
   "metadata": {
    "execution": {
     "iopub.execute_input": "2023-01-26T15:39:15.839839Z",
     "iopub.status.busy": "2023-01-26T15:39:15.838490Z",
     "iopub.status.idle": "2023-01-26T15:39:15.850993Z",
     "shell.execute_reply": "2023-01-26T15:39:15.849742Z"
    },
    "papermill": {
     "duration": 0.02271,
     "end_time": "2023-01-26T15:39:15.853975",
     "exception": false,
     "start_time": "2023-01-26T15:39:15.831265",
     "status": "completed"
    },
    "tags": []
   },
   "outputs": [
    {
     "name": "stdout",
     "output_type": "stream",
     "text": [
      "Number of images: 1227\n"
     ]
    },
    {
     "data": {
      "text/plain": [
       "(#5) ['1-1.dcm','1-1.dcm','1-1.dcm','1-1.dcm','1-1.dcm']"
      ]
     },
     "execution_count": 8,
     "metadata": {},
     "output_type": "execute_result"
    }
   ],
   "source": [
    "print(f\"Number of images: {len(full_mammo_imgs)}\")\n",
    "full_mammo_imgs.get_sample_names()"
   ]
  },
  {
   "cell_type": "code",
   "execution_count": 9,
   "id": "30ee6632",
   "metadata": {
    "execution": {
     "iopub.execute_input": "2023-01-26T15:39:15.868679Z",
     "iopub.status.busy": "2023-01-26T15:39:15.868113Z",
     "iopub.status.idle": "2023-01-26T15:39:18.720736Z",
     "shell.execute_reply": "2023-01-26T15:39:18.719441Z"
    },
    "papermill": {
     "duration": 2.864085,
     "end_time": "2023-01-26T15:39:18.723479",
     "exception": false,
     "start_time": "2023-01-26T15:39:15.859394",
     "status": "completed"
    },
    "tags": []
   },
   "outputs": [
    {
     "data": {
      "text/plain": [
       "(Dataset.file_meta -------------------------------\n",
       " (0002, 0000) File Meta Information Group Length  UL: 194\n",
       " (0002, 0001) File Meta Information Version       OB: b'\\x00\\x01'\n",
       " (0002, 0002) Media Storage SOP Class UID         UI: Secondary Capture Image Storage\n",
       " (0002, 0003) Media Storage SOP Instance UID      UI: 1.3.6.1.4.1.9590.100.1.2.280759999712776333832506740772048367994\n",
       " (0002, 0010) Transfer Syntax UID                 UI: Implicit VR Little Endian\n",
       " (0002, 0012) Implementation Class UID            UI: 1.2.40.0.13.1.1.1\n",
       " (0002, 0013) Implementation Version Name         SH: 'dcm4che-1.4.35'\n",
       " -------------------------------------------------\n",
       " (0008, 0005) Specific Character Set              CS: 'ISO_IR 100'\n",
       " (0008, 0016) SOP Class UID                       UI: Secondary Capture Image Storage\n",
       " (0008, 0018) SOP Instance UID                    UI: 1.3.6.1.4.1.9590.100.1.2.280759999712776333832506740772048367994\n",
       " (0008, 0020) Study Date                          DA: '20160807'\n",
       " (0008, 0023) Content Date                        DA: '20160503'\n",
       " (0008, 0030) Study Time                          TM: '172348'\n",
       " (0008, 0033) Content Time                        TM: '135152.458000'\n",
       " (0008, 0050) Accession Number                    SH: ''\n",
       " (0008, 0060) Modality                            CS: 'MG'\n",
       " (0008, 0064) Conversion Type                     CS: 'WSD'\n",
       " (0008, 0090) Referring Physician's Name          PN: ''\n",
       " (0008, 103e) Series Description                  LO: 'full mammogram images'\n",
       " (0010, 0010) Patient's Name                      PN: 'Calc-Training_P_02459_RIGHT_CC'\n",
       " (0010, 0020) Patient ID                          LO: 'Calc-Training_P_02459_RIGHT_CC'\n",
       " (0010, 0030) Patient's Birth Date                DA: ''\n",
       " (0010, 0040) Patient's Sex                       CS: ''\n",
       " (0013, 0010) Private Creator                     LO: 'CTP'\n",
       " (0013, 1010) Private tag data                    UN: b'CBIS-DDSM '\n",
       " (0013, 1013) Private tag data                    UN: b'43352602'\n",
       " (0018, 0015) Body Part Examined                  CS: 'BREAST'\n",
       " (0018, 1016) Secondary Capture Device Manufactur LO: 'MathWorks'\n",
       " (0018, 1018) Secondary Capture Device Manufactur LO: 'MATLAB'\n",
       " (0020, 000d) Study Instance UID                  UI: 1.3.6.1.4.1.9590.100.1.2.289588084511366107935674515772350548468\n",
       " (0020, 000e) Series Instance UID                 UI: 1.3.6.1.4.1.9590.100.1.2.372859759911726400709841299572249634201\n",
       " (0020, 0010) Study ID                            SH: 'DDSM'\n",
       " (0020, 0011) Series Number                       IS: '1'\n",
       " (0020, 0013) Instance Number                     IS: '1'\n",
       " (0020, 0020) Patient Orientation                 CS: 'CC'\n",
       " (0020, 0060) Laterality                          CS: 'R'\n",
       " (0028, 0002) Samples per Pixel                   US: 1\n",
       " (0028, 0004) Photometric Interpretation          CS: 'MONOCHROME2'\n",
       " (0028, 0010) Rows                                US: 5761\n",
       " (0028, 0011) Columns                             US: 2626\n",
       " (0028, 0100) Bits Allocated                      US: 16\n",
       " (0028, 0101) Bits Stored                         US: 16\n",
       " (0028, 0102) High Bit                            US: 15\n",
       " (0028, 0103) Pixel Representation                US: 0\n",
       " (0028, 0106) Smallest Image Pixel Value          US: 0\n",
       " (0028, 0107) Largest Image Pixel Value           US: 60839\n",
       " (7fe0, 0010) Pixel Data                          OW: Array of 30256772 elements,\n",
       " None)"
      ]
     },
     "execution_count": 9,
     "metadata": {},
     "output_type": "execute_result"
    },
    {
     "data": {
      "image/png": "[encoded data removed]",
      "text/plain": [
       "<Figure size 360x360 with 1 Axes>"
      ]
     },
     "metadata": {
      "needs_background": "light"
     },
     "output_type": "display_data"
    }
   ],
   "source": [
    "full_mammo_imgs.show_example()"
   ]
  },
  {
   "cell_type": "code",
   "execution_count": 10,
   "id": "9f9c8976",
   "metadata": {
    "execution": {
     "iopub.execute_input": "2023-01-26T15:39:18.738648Z",
     "iopub.status.busy": "2023-01-26T15:39:18.737715Z",
     "iopub.status.idle": "2023-01-26T15:49:23.584226Z",
     "shell.execute_reply": "2023-01-26T15:49:23.582895Z"
    },
    "papermill": {
     "duration": 604.863656,
     "end_time": "2023-01-26T15:49:23.593747",
     "exception": false,
     "start_time": "2023-01-26T15:39:18.730091",
     "status": "completed"
    },
    "tags": []
   },
   "outputs": [
    {
     "data": {
      "text/html": [
       "<div>\n",
       "<style scoped>\n",
       "    .dataframe tbody tr th:only-of-type {\n",
       "        vertical-align: middle;\n",
       "    }\n",
       "\n",
       "    .dataframe tbody tr th {\n",
       "        vertical-align: top;\n",
       "    }\n",
       "\n",
       "    .dataframe thead th {\n",
       "        text-align: right;\n",
       "    }\n",
       "</style>\n",
       "<table border=\"1\" class=\"dataframe\">\n",
       "  <thead>\n",
       "    <tr style=\"text-align: right;\">\n",
       "      <th></th>\n",
       "      <th>SpecificCharacterSet</th>\n",
       "      <th>SOPClassUID</th>\n",
       "      <th>SOPInstanceUID</th>\n",
       "      <th>StudyDate</th>\n",
       "      <th>ContentDate</th>\n",
       "      <th>StudyTime</th>\n",
       "      <th>ContentTime</th>\n",
       "      <th>AccessionNumber</th>\n",
       "      <th>Modality</th>\n",
       "      <th>ConversionType</th>\n",
       "      <th>...</th>\n",
       "      <th>HighBit</th>\n",
       "      <th>PixelRepresentation</th>\n",
       "      <th>SmallestImagePixelValue</th>\n",
       "      <th>LargestImagePixelValue</th>\n",
       "      <th>fname</th>\n",
       "      <th>img_min</th>\n",
       "      <th>img_max</th>\n",
       "      <th>img_mean</th>\n",
       "      <th>img_std</th>\n",
       "      <th>img_pct_window</th>\n",
       "    </tr>\n",
       "  </thead>\n",
       "  <tbody>\n",
       "    <tr>\n",
       "      <th>0</th>\n",
       "      <td>ISO_IR 100</td>\n",
       "      <td>1.2.840.10008.5.1.4.1.1.7</td>\n",
       "      <td>1.3.6.1.4.1.9590.100.1.2.15688760811143975434734811273146566088</td>\n",
       "      <td>20160807</td>\n",
       "      <td>20160503</td>\n",
       "      <td>163113</td>\n",
       "      <td>115030.838000</td>\n",
       "      <td></td>\n",
       "      <td>MG</td>\n",
       "      <td>WSD</td>\n",
       "      <td>...</td>\n",
       "      <td>15</td>\n",
       "      <td>0</td>\n",
       "      <td>0</td>\n",
       "      <td>65535</td>\n",
       "      <td>/kaggle/input/calctraining-full-mammogram-images/CBIS-DDSM/Calc-Training_P_00538_RIGHT_MLO/08-07-2016-DDSM-NA-26887/1.000000-full mammogram images-81412/1-1.dcm</td>\n",
       "      <td>0</td>\n",
       "      <td>-1</td>\n",
       "      <td>8686.665703</td>\n",
       "      <td>14436.772147</td>\n",
       "      <td>0.002313</td>\n",
       "    </tr>\n",
       "    <tr>\n",
       "      <th>1</th>\n",
       "      <td>ISO_IR 100</td>\n",
       "      <td>1.2.840.10008.5.1.4.1.1.7</td>\n",
       "      <td>1.3.6.1.4.1.9590.100.1.2.252402654112412533004879576800166651042</td>\n",
       "      <td>20160807</td>\n",
       "      <td>20160503</td>\n",
       "      <td>164024</td>\n",
       "      <td>121042.630000</td>\n",
       "      <td></td>\n",
       "      <td>MG</td>\n",
       "      <td>WSD</td>\n",
       "      <td>...</td>\n",
       "      <td>15</td>\n",
       "      <td>0</td>\n",
       "      <td>0</td>\n",
       "      <td>65535</td>\n",
       "      <td>/kaggle/input/calctraining-full-mammogram-images/CBIS-DDSM/Calc-Training_P_00780_LEFT_CC/08-07-2016-DDSM-NA-28496/1.000000-full mammogram images-02779/1-1.dcm</td>\n",
       "      <td>0</td>\n",
       "      <td>-1</td>\n",
       "      <td>13528.340982</td>\n",
       "      <td>15362.172323</td>\n",
       "      <td>0.001216</td>\n",
       "    </tr>\n",
       "    <tr>\n",
       "      <th>2</th>\n",
       "      <td>ISO_IR 100</td>\n",
       "      <td>1.2.840.10008.5.1.4.1.1.7</td>\n",
       "      <td>1.3.6.1.4.1.9590.100.1.2.67964921810086504337162892134055597163</td>\n",
       "      <td>20160807</td>\n",
       "      <td>20160503</td>\n",
       "      <td>164543</td>\n",
       "      <td>122238.527000</td>\n",
       "      <td></td>\n",
       "      <td>MG</td>\n",
       "      <td>WSD</td>\n",
       "      <td>...</td>\n",
       "      <td>15</td>\n",
       "      <td>0</td>\n",
       "      <td>0</td>\n",
       "      <td>65535</td>\n",
       "      <td>/kaggle/input/calctraining-full-mammogram-images/CBIS-DDSM/Calc-Training_P_00925_RIGHT_CC/08-07-2016-DDSM-NA-49328/1.000000-full mammogram images-56604/1-1.dcm</td>\n",
       "      <td>0</td>\n",
       "      <td>-1</td>\n",
       "      <td>9913.856608</td>\n",
       "      <td>13107.277028</td>\n",
       "      <td>0.000694</td>\n",
       "    </tr>\n",
       "    <tr>\n",
       "      <th>3</th>\n",
       "      <td>ISO_IR 100</td>\n",
       "      <td>1.2.840.10008.5.1.4.1.1.7</td>\n",
       "      <td>1.3.6.1.4.1.9590.100.1.2.397097213010483689921516138343509352804</td>\n",
       "      <td>20160807</td>\n",
       "      <td>20160503</td>\n",
       "      <td>161809</td>\n",
       "      <td>111949.483000</td>\n",
       "      <td></td>\n",
       "      <td>MG</td>\n",
       "      <td>WSD</td>\n",
       "      <td>...</td>\n",
       "      <td>15</td>\n",
       "      <td>0</td>\n",
       "      <td>0</td>\n",
       "      <td>65535</td>\n",
       "      <td>/kaggle/input/calctraining-full-mammogram-images/CBIS-DDSM/Calc-Training_P_00224_LEFT_CC/08-07-2016-DDSM-NA-32339/1.000000-full mammogram images-36735/1-1.dcm</td>\n",
       "      <td>0</td>\n",
       "      <td>-1</td>\n",
       "      <td>9331.162974</td>\n",
       "      <td>13453.602596</td>\n",
       "      <td>0.000890</td>\n",
       "    </tr>\n",
       "    <tr>\n",
       "      <th>4</th>\n",
       "      <td>ISO_IR 100</td>\n",
       "      <td>1.2.840.10008.5.1.4.1.1.7</td>\n",
       "      <td>1.3.6.1.4.1.9590.100.1.2.387043462511573825104858177461031698378</td>\n",
       "      <td>20160807</td>\n",
       "      <td>20160503</td>\n",
       "      <td>164800</td>\n",
       "      <td>122635.844000</td>\n",
       "      <td></td>\n",
       "      <td>MG</td>\n",
       "      <td>WSD</td>\n",
       "      <td>...</td>\n",
       "      <td>15</td>\n",
       "      <td>0</td>\n",
       "      <td>0</td>\n",
       "      <td>65535</td>\n",
       "      <td>/kaggle/input/calctraining-full-mammogram-images/CBIS-DDSM/Calc-Training_P_00978_LEFT_CC/08-07-2016-DDSM-NA-54589/1.000000-full mammogram images-59992/1-1.dcm</td>\n",
       "      <td>0</td>\n",
       "      <td>-1</td>\n",
       "      <td>10208.331760</td>\n",
       "      <td>16699.651013</td>\n",
       "      <td>0.000628</td>\n",
       "    </tr>\n",
       "  </tbody>\n",
       "</table>\n",
       "<p>5 rows × 43 columns</p>\n",
       "</div>"
      ],
      "text/plain": [
       "  SpecificCharacterSet                SOPClassUID  \\\n",
       "0           ISO_IR 100  1.2.840.10008.5.1.4.1.1.7   \n",
       "1           ISO_IR 100  1.2.840.10008.5.1.4.1.1.7   \n",
       "2           ISO_IR 100  1.2.840.10008.5.1.4.1.1.7   \n",
       "3           ISO_IR 100  1.2.840.10008.5.1.4.1.1.7   \n",
       "4           ISO_IR 100  1.2.840.10008.5.1.4.1.1.7   \n",
       "\n",
       "                                                     SOPInstanceUID StudyDate  \\\n",
       "0   1.3.6.1.4.1.9590.100.1.2.15688760811143975434734811273146566088  20160807   \n",
       "1  1.3.6.1.4.1.9590.100.1.2.252402654112412533004879576800166651042  20160807   \n",
       "2   1.3.6.1.4.1.9590.100.1.2.67964921810086504337162892134055597163  20160807   \n",
       "3  1.3.6.1.4.1.9590.100.1.2.397097213010483689921516138343509352804  20160807   \n",
       "4  1.3.6.1.4.1.9590.100.1.2.387043462511573825104858177461031698378  20160807   \n",
       "\n",
       "  ContentDate StudyTime    ContentTime AccessionNumber Modality  \\\n",
       "0    20160503    163113  115030.838000                       MG   \n",
       "1    20160503    164024  121042.630000                       MG   \n",
       "2    20160503    164543  122238.527000                       MG   \n",
       "3    20160503    161809  111949.483000                       MG   \n",
       "4    20160503    164800  122635.844000                       MG   \n",
       "\n",
       "  ConversionType  ... HighBit PixelRepresentation SmallestImagePixelValue  \\\n",
       "0            WSD  ...      15                   0                       0   \n",
       "1            WSD  ...      15                   0                       0   \n",
       "2            WSD  ...      15                   0                       0   \n",
       "3            WSD  ...      15                   0                       0   \n",
       "4            WSD  ...      15                   0                       0   \n",
       "\n",
       "  LargestImagePixelValue  \\\n",
       "0                  65535   \n",
       "1                  65535   \n",
       "2                  65535   \n",
       "3                  65535   \n",
       "4                  65535   \n",
       "\n",
       "                                                                                                                                                              fname  \\\n",
       "0  /kaggle/input/calctraining-full-mammogram-images/CBIS-DDSM/Calc-Training_P_00538_RIGHT_MLO/08-07-2016-DDSM-NA-26887/1.000000-full mammogram images-81412/1-1.dcm   \n",
       "1    /kaggle/input/calctraining-full-mammogram-images/CBIS-DDSM/Calc-Training_P_00780_LEFT_CC/08-07-2016-DDSM-NA-28496/1.000000-full mammogram images-02779/1-1.dcm   \n",
       "2   /kaggle/input/calctraining-full-mammogram-images/CBIS-DDSM/Calc-Training_P_00925_RIGHT_CC/08-07-2016-DDSM-NA-49328/1.000000-full mammogram images-56604/1-1.dcm   \n",
       "3    /kaggle/input/calctraining-full-mammogram-images/CBIS-DDSM/Calc-Training_P_00224_LEFT_CC/08-07-2016-DDSM-NA-32339/1.000000-full mammogram images-36735/1-1.dcm   \n",
       "4    /kaggle/input/calctraining-full-mammogram-images/CBIS-DDSM/Calc-Training_P_00978_LEFT_CC/08-07-2016-DDSM-NA-54589/1.000000-full mammogram images-59992/1-1.dcm   \n",
       "\n",
       "  img_min img_max      img_mean       img_std img_pct_window  \n",
       "0       0      -1   8686.665703  14436.772147       0.002313  \n",
       "1       0      -1  13528.340982  15362.172323       0.001216  \n",
       "2       0      -1   9913.856608  13107.277028       0.000694  \n",
       "3       0      -1   9331.162974  13453.602596       0.000890  \n",
       "4       0      -1  10208.331760  16699.651013       0.000628  \n",
       "\n",
       "[5 rows x 43 columns]"
      ]
     },
     "execution_count": 10,
     "metadata": {},
     "output_type": "execute_result"
    }
   ],
   "source": [
    "full_mammo_imgs.create_dicom_df(\"full_mammo_imgs\", px_summ=True)"
   ]
  }
 ],
 "metadata": {
  "kernelspec": {
   "display_name": "Python 3",
   "language": "python",
   "name": "python3"
  },
  "language_info": {
   "codemirror_mode": {
    "name": "ipython",
    "version": 3
   },
   "file_extension": ".py",
   "mimetype": "text/x-python",
   "name": "python",
   "nbconvert_exporter": "python",
   "pygments_lexer": "ipython3",
   "version": "3.7.12"
  },
  "papermill": {
   "default_parameters": {},
   "duration": 1214.365925,
   "end_time": "2023-01-26T15:49:25.144662",
   "environment_variables": {},
   "exception": null,
   "input_path": "__notebook__.ipynb",
   "output_path": "__notebook__.ipynb",
   "parameters": {},
   "start_time": "2023-01-26T15:29:10.778737",
   "version": "2.3.4"
  }
 },
 "nbformat": 4,
 "nbformat_minor": 5
}
